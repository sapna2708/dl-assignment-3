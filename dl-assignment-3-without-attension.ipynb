{
 "cells": [
  {
   "cell_type": "code",
   "execution_count": 1,
   "metadata": {
    "execution": {
     "iopub.execute_input": "2024-04-24T07:12:33.187567Z",
     "iopub.status.busy": "2024-04-24T07:12:33.187191Z",
     "iopub.status.idle": "2024-04-24T07:12:38.671156Z",
     "shell.execute_reply": "2024-04-24T07:12:38.670194Z",
     "shell.execute_reply.started": "2024-04-24T07:12:33.187539Z"
    },
    "trusted": true
   },
   "outputs": [],
   "source": [
    "import os\n",
    "import wandb\n",
    "import torch\n",
    "import torch.nn as nn\n",
    "import random\n",
    "from torch.autograd import Variable\n",
    "from torch.utils.data import DataLoader\n",
    "import pandas as pd\n",
    "import torch.optim as optim\n",
    "import torch.nn.functional as Function\n",
    "import argparse\n"
   ]
  },
  {
   "cell_type": "code",
   "execution_count": null,
   "metadata": {
    "execution": {
     "iopub.execute_input": "2024-04-24T07:14:11.800650Z",
     "iopub.status.busy": "2024-04-24T07:14:11.799999Z",
     "iopub.status.idle": "2024-04-24T07:14:11.828616Z",
     "shell.execute_reply": "2024-04-24T07:14:11.827611Z",
     "shell.execute_reply.started": "2024-04-24T07:14:11.800598Z"
    },
    "trusted": true
   },
   "outputs": [],
   "source": [
    "SYMBOL_BEGIN, SYMBOL_END, SYMBOL_UNKNOWN, SYMBOL_PADDING = 0, 1, 2, 3\n",
    "\n",
    "INPUT_LABEL = \"input\"\n",
    "TARGET_LABEL = \"target\"\n",
    "DELIMETER = \",\"\n",
    "\n",
    "RNN_KEY = \"RNN\"\n",
    "GRU_KEY = \"GRU\"\n",
    "LSTM_KEY = \"LSTM\"\n",
    "\n",
    "INPUT_LANG_KEY = \"input_lang\"\n",
    "OUTPUT_LANG_KEY = \"output_lang\"\n",
    "PAIRS_KEY = \"pairs\"\n",
    "MAX_LEN_KEY = \"max_len\"\n",
    "\n",
    "input_lang = \"eng\"\n",
    "TARGET_LANG = \"hin\"\n",
    "\n",
    "TRAIN_LABEL = \"train\"\n",
    "TEST_LABEL = \"test\"\n",
    "VALID_LABEL = \"valid\"\n",
    "\n",
    "DEFAULT_PATH = \"/kaggle/input/aksharantar-sampled/aksharantar_sampled\"\n",
    "TRAIN_DATASET_PATH = f\"{DEFAULT_PATH}/{TARGET_LANG}/{TARGET_LANG}_{TRAIN_LABEL}.csv\"\n",
    "VALIDATION_DATASET_PATH = f\"{DEFAULT_PATH}/{TARGET_LANG}/{TARGET_LANG}_{VALID_LABEL}.csv\"\n",
    "TEST_DATASET_PATH = f\"{DEFAULT_PATH}/{TARGET_LANG}/{TARGET_LANG}_{TEST_LABEL}.csv\"\n",
    "\n",
    "NADAM_KEY = \"Nadam\"\n",
    "\n",
    "# Sweep param labels\n",
    "EMBEDDING_SIZE_KEY = \"embedding_size\"\n",
    "EPOCHS_KEY = \"epochs\"\n",
    "ENCODER_LAYER_KEY = \"encoder_layers\"\n",
    "DECODER_LAYER_KEY = \"decoder_layers\"\n",
    "HIDDEN_LAYER_KEY = \"hidden_layer\"\n",
    "IS_BIDIRECTIONAL_KEY = \"bidirectional\"\n",
    "DROPOUT_KEY = \"dropout\"\n",
    "CELL_TYPE_KEY = \"cell_type\"\n",
    "LEARNING_RATE_KEY = \"learning_rate\"\n",
    "BATCH_SIZE_KEY = \"batch_size\"\n",
    "\n",
    "# wandb constants\n",
    "WANDB_PROJECT_NAME=\"dl-assignment-3\"\n",
    "WANDB_ENTITY_NAME=\"dl-1\"\n",
    "\n",
    "# wandb plot titles\n",
    "TRAIN_ACCURACY_TITLE = \"train_acc\"\n",
    "VALIDATION_ACCURACY_TITLE = \"val_acc\"\n",
    "TEST_ACCURACY_TITLE = \"test_acc\"\n",
    "TRAIN_LOSS_TITLE = \"train_loss\"\n",
    "VALIDATION_LOSS_TITLE = \"val_loss\"\n",
    "TEST_LOSS_TITLE = \"test_loss\"\n"
   ]
  }
 ],
 "metadata": {
  "kaggle": {
   "accelerator": "gpu",
   "dataSources": [
    {
     "datasetId": 4830499,
     "sourceId": 8163901,
     "sourceType": "datasetVersion"
    }
   ],
   "dockerImageVersionId": 30699,
   "isGpuEnabled": true,
   "isInternetEnabled": true,
   "language": "python",
   "sourceType": "notebook"
  },
  "kernelspec": {
   "display_name": "Python 3",
   "language": "python",
   "name": "python3"
  },
  "language_info": {
   "codemirror_mode": {
    "name": "ipython",
    "version": 3
   },
   "file_extension": ".py",
   "mimetype": "text/x-python",
   "name": "python",
   "nbconvert_exporter": "python",
   "pygments_lexer": "ipython3",
   "version": "3.10.13"
  }
 },
 "nbformat": 4,
 "nbformat_minor": 4
}
